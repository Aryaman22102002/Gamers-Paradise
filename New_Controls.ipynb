{
 "cells": [
  {
   "cell_type": "code",
   "execution_count": null,
   "id": "fb13f83d",
   "metadata": {},
   "outputs": [],
   "source": [
    "import cv2\n",
    "import cvzone\n",
    "from cvzone.HandTrackingModule import HandDetector\n",
    "from time import sleep\n",
    "import numpy as np\n",
    "from pynput.keyboard import Controller\n",
    "\n",
    "cap = cv2.VideoCapture(0)\n",
    "cap.set(3, 400)\n",
    "cap.set(4, 400)\n",
    "\n",
    "\n",
    "detector = HandDetector(detectionCon=1)\n",
    "keyboard = Controller()\n",
    "\n",
    "while True:\n",
    "    success, img = cap.read()\n",
    "    img = detector.findHands(img)\n",
    "    lmList, bboxInfo = detector.findPosition(img)\n",
    "    if lmList:\n",
    "        l, _, _ = detector.findDistance(4,8, img, draw=False)\n",
    "        \n",
    "        \n",
    "        if l < 35:\n",
    "            keyboard.press(\"A\")\n",
    "            print(\"A\")\n",
    "        \n",
    "        elif l >= 35:\n",
    "            keyboard.press(\"D\")\n",
    "            print(\"D\")\n",
    "        \n",
    "        \n",
    "\n",
    "    #cv2.rectangle(img, (25,350), (700, 450),\n",
    "                 # (255, 255, 255), cv2.FILLED)\n",
    "    #cv2.putText(img, final_text, (60, 425),\n",
    "               # cv2.FONT_HERSHEY_PLAIN, 4, (0, 0, 0), 4)\n",
    "\n",
    "    \n",
    "    cv2.imshow(\"output\", img)\n",
    "    cv2.waitKey(1)"
   ]
  },
  {
   "cell_type": "code",
   "execution_count": null,
   "id": "bdd55ca3",
   "metadata": {},
   "outputs": [],
   "source": []
  },
  {
   "cell_type": "code",
   "execution_count": null,
   "id": "69ed860c",
   "metadata": {},
   "outputs": [],
   "source": []
  }
 ],
 "metadata": {
  "kernelspec": {
   "display_name": "Python 3 (ipykernel)",
   "language": "python",
   "name": "python3"
  },
  "language_info": {
   "codemirror_mode": {
    "name": "ipython",
    "version": 3
   },
   "file_extension": ".py",
   "mimetype": "text/x-python",
   "name": "python",
   "nbconvert_exporter": "python",
   "pygments_lexer": "ipython3",
   "version": "3.8.10"
  }
 },
 "nbformat": 4,
 "nbformat_minor": 5
}
